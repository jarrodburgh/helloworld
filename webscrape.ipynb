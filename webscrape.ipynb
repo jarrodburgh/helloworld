{
 "cells": [
  {
   "cell_type": "code",
   "execution_count": 3,
   "id": "9e3d67c5-7179-4219-a538-efffb7adb9a1",
   "metadata": {},
   "outputs": [],
   "source": [
    "import requests\n",
    "from bs4 import BeautifulSoup"
   ]
  },
  {
   "cell_type": "markdown",
   "id": "6b15f87a-712d-4401-b9d2-df862bbd30d9",
   "metadata": {},
   "source": [
    "## Downloading the HTML\n",
    "\n",
    "Requests allows us to send HTTP requests. We'll use request.get() to retrieve a response from a server."
   ]
  },
  {
   "cell_type": "code",
   "execution_count": 4,
   "id": "a3386703-14f2-4fce-9060-73c63cf74036",
   "metadata": {},
   "outputs": [],
   "source": [
    "url = 'http://www.fieldexperiments.com/papers/'\n",
    "page = requests.get(url)"
   ]
  },
  {
   "cell_type": "code",
   "execution_count": 5,
   "id": "8ce1d67b-da44-4c2c-bd63-ac73a2395968",
   "metadata": {},
   "outputs": [
    {
     "data": {
      "text/plain": [
       "<Response [200]>"
      ]
     },
     "execution_count": 5,
     "metadata": {},
     "output_type": "execute_result"
    }
   ],
   "source": [
    "page"
   ]
  },
  {
   "cell_type": "code",
   "execution_count": 6,
   "id": "19f5c507-f225-4f73-befa-8ab6d121dea9",
   "metadata": {},
   "outputs": [
    {
     "data": {
      "text/plain": [
       "<Response [200]>"
      ]
     },
     "execution_count": 6,
     "metadata": {},
     "output_type": "execute_result"
    }
   ],
   "source": [
    "page"
   ]
  },
  {
   "cell_type": "code",
   "execution_count": null,
   "id": "2e4a9e76-4eb8-48cc-84df-08b326a8c45a",
   "metadata": {},
   "outputs": [],
   "source": [
    "page.content"
   ]
  },
  {
   "cell_type": "markdown",
   "id": "f0ef466d-8066-4f78-83e5-0a268eb56942",
   "metadata": {},
   "source": [
    "## Parse the response content"
   ]
  },
  {
   "cell_type": "code",
   "execution_count": null,
   "id": "c254cf44-ba1c-40bb-a9b0-6b06e76b20ec",
   "metadata": {},
   "outputs": [],
   "source": [
    "soup = BeautifulSoup(page.content, 'html.parser')\n",
    "print(soup.prettify())"
   ]
  },
  {
   "cell_type": "markdown",
   "id": "5bd2f7e3-f691-4951-9226-5ddcfecf055d",
   "metadata": {},
   "source": [
    "## Navigating the HTML"
   ]
  },
  {
   "cell_type": "code",
   "execution_count": 10,
   "id": "65155f43-afb4-4f5a-b571-2b19e3a4b82e",
   "metadata": {},
   "outputs": [
    {
     "data": {
      "text/plain": [
       "<title>Field Experiments</title>"
      ]
     },
     "execution_count": 10,
     "metadata": {},
     "output_type": "execute_result"
    }
   ],
   "source": [
    "soup.title"
   ]
  },
  {
   "cell_type": "code",
   "execution_count": 11,
   "id": "a31d87c8-bdee-4626-8a75-7935f65422f3",
   "metadata": {},
   "outputs": [
    {
     "data": {
      "text/plain": [
       "'Field Experiments'"
      ]
     },
     "execution_count": 11,
     "metadata": {},
     "output_type": "execute_result"
    }
   ],
   "source": [
    "soup.title.string"
   ]
  },
  {
   "cell_type": "code",
   "execution_count": 12,
   "id": "5dd4c79d-f35a-4f5f-8194-f5eeba2cd4bb",
   "metadata": {},
   "outputs": [
    {
     "data": {
      "text/plain": [
       "'Field Experiments'"
      ]
     },
     "execution_count": 12,
     "metadata": {},
     "output_type": "execute_result"
    }
   ],
   "source": [
    "soup.title.text"
   ]
  },
  {
   "cell_type": "markdown",
   "id": "4bc390b4-8ef0-4c2d-a294-6bf988c13010",
   "metadata": {},
   "source": [
    "We can create a list of of certain types of html tags using find_all, (e.g. 'p', 'a', div')"
   ]
  },
  {
   "cell_type": "code",
   "execution_count": null,
   "id": "f2a9badf-d427-43db-9bae-b4ce31f6a638",
   "metadata": {},
   "outputs": [],
   "source": [
    "soup.find_all('a')\n",
    "soup.find_all('div')"
   ]
  },
  {
   "cell_type": "markdown",
   "id": "bcb44398-a2be-4f77-aba7-1bd47e9bdbbe",
   "metadata": {},
   "source": [
    "## Find element by 'id'"
   ]
  },
  {
   "cell_type": "code",
   "execution_count": null,
   "id": "b3605660-c465-4507-8f2d-6a9c3e767d6b",
   "metadata": {},
   "outputs": [],
   "source": [
    "container = soup.find(id='accordion')\n",
    "container"
   ]
  },
  {
   "cell_type": "markdown",
   "id": "948d3ab3-d2bd-4956-b11e-b4ebbed79c51",
   "metadata": {},
   "source": [
    "Let's get a list of all of the elements with CSS class name 'panel'"
   ]
  },
  {
   "cell_type": "code",
   "execution_count": null,
   "id": "eda129b3-98e3-4152-932e-4f3d87c1638d",
   "metadata": {},
   "outputs": [],
   "source": [
    "paperList = container.find_all('div', class_='panel')\n",
    "paperList"
   ]
  },
  {
   "cell_type": "code",
   "execution_count": null,
   "id": "871f8c21-3a8c-4ca2-8954-b76d5779062a",
   "metadata": {},
   "outputs": [],
   "source": [
    "first = paperList[0]\n",
    "first"
   ]
  },
  {
   "cell_type": "code",
   "execution_count": 23,
   "id": "b4ebda14-6203-49b9-9a12-6c82b9be11fb",
   "metadata": {},
   "outputs": [
    {
     "data": {
      "text/plain": [
       "\"2020: A Summary Of Artefactual Field Experiments On Fieldexperiments.Com: The Who's, What's, Where's, And When's\""
      ]
     },
     "execution_count": 23,
     "metadata": {},
     "output_type": "execute_result"
    }
   ],
   "source": [
    "title = first.find('a').text\n",
    "title"
   ]
  },
  {
   "cell_type": "code",
   "execution_count": 31,
   "id": "b0bbaede-025c-4a79-9969-bff78d6f3456",
   "metadata": {},
   "outputs": [],
   "source": [
    "authorsList = first.find_all(attrs={'name':'citation_author'})\n",
    "first_author = authorsList[0]['content']"
   ]
  },
  {
   "cell_type": "code",
   "execution_count": 35,
   "id": "8baac80d-e9f3-4d05-86ef-ba411d98bbda",
   "metadata": {},
   "outputs": [
    {
     "data": {
      "text/plain": [
       "'2020'"
      ]
     },
     "execution_count": 35,
     "metadata": {},
     "output_type": "execute_result"
    }
   ],
   "source": [
    "yearMeta = first.find(attrs={'name':'citation_publication_date'})\n",
    "year = yearMeta['content']\n",
    "year"
   ]
  },
  {
   "cell_type": "code",
   "execution_count": 36,
   "id": "02935eac-5abf-4aaa-9b67-2541be5c6b84",
   "metadata": {},
   "outputs": [
    {
     "data": {
      "text/plain": [
       "[{'title': \"2020: A Summary Of Artefactual Field Experiments On Fieldexperiments.Com: The Who's, What's, Where's, And When's\",\n",
       "  'first_author': 'List John A',\n",
       "  'year': '2020'},\n",
       " {'title': \"2020: A Summary Of Framed Field Experiments On Fieldexperiments.Com: The Who's, What's Where's, And When's\",\n",
       "  'first_author': 'List John A',\n",
       "  'year': '2020'},\n",
       " {'title': '2020 Summary Data Of Natural Field Experiments Published On Fieldexperiments.Com',\n",
       "  'first_author': 'List John A',\n",
       "  'year': '2020'},\n",
       " {'title': '2021 Summary Data Of Artefactual Field Experiments Published On Fieldexperiments.Com',\n",
       "  'first_author': 'List John A',\n",
       "  'year': '2022'},\n",
       " {'title': '2021 Summary Data Of Natural Field Experiments Published On Fieldexperiments.Com',\n",
       "  'first_author': 'List John A',\n",
       "  'year': ''},\n",
       " {'title': 'Academic Economists Behaving Badly? A Survey On Three Areas Of Unethical Behavior',\n",
       "  'first_author': 'Bailey Charles ',\n",
       "  'year': '2001'},\n",
       " {'title': 'Achievement Awards For High School Matriculation: Evidence From Randomized Trials',\n",
       "  'first_author': 'Angrist Joshua D',\n",
       "  'year': '2003'},\n",
       " {'title': 'Actions And Beliefs: Estimating Distribution-Based Preferences Using A Large Scale Experiment With Probability Questions On Expectations',\n",
       "  'first_author': 'Bellemare Charles ',\n",
       "  'year': '2005'},\n",
       " {'title': 'Active Decisions And Pro-Social Behavior: A Field Experiment On Blood Donation',\n",
       "  'first_author': 'Goette Lorenz ',\n",
       "  'year': '2007'},\n",
       " {'title': 'A Dollar For Your Thoughts: Feedback-Conditional Rebates On Ebay',\n",
       "  'first_author': 'Cabral Luis ',\n",
       "  'year': '2015'}]"
      ]
     },
     "execution_count": 36,
     "metadata": {},
     "output_type": "execute_result"
    }
   ],
   "source": [
    "d = []\n",
    "for paper in paperList:\n",
    "    title = paper.find('a').text\n",
    "    \n",
    "    authorsList = paper.find_all(attrs={'name':'citation_author'})\n",
    "    first_author = authorsList[0]['content']\n",
    "    \n",
    "    yearMeta = paper.find(attrs={'name':'citation_publication_date'})\n",
    "    year = yearMeta['content']\n",
    "    \n",
    "    tempDict = dict(\n",
    "        title=title,\n",
    "        first_author=first_author,\n",
    "        year=year\n",
    "    )\n",
    "    \n",
    "    d.append(tempDict)\n",
    "\n",
    "d"
   ]
  },
  {
   "cell_type": "markdown",
   "id": "1b59b8e1-2afb-4e3d-93f3-ce605eebce43",
   "metadata": {},
   "source": [
    "## Export to CSV"
   ]
  },
  {
   "cell_type": "code",
   "execution_count": 37,
   "id": "8e0a8c1d-68d3-40bb-b959-a575c80e520e",
   "metadata": {},
   "outputs": [
    {
     "data": {
      "text/html": [
       "<div>\n",
       "<style scoped>\n",
       "    .dataframe tbody tr th:only-of-type {\n",
       "        vertical-align: middle;\n",
       "    }\n",
       "\n",
       "    .dataframe tbody tr th {\n",
       "        vertical-align: top;\n",
       "    }\n",
       "\n",
       "    .dataframe thead th {\n",
       "        text-align: right;\n",
       "    }\n",
       "</style>\n",
       "<table border=\"1\" class=\"dataframe\">\n",
       "  <thead>\n",
       "    <tr style=\"text-align: right;\">\n",
       "      <th></th>\n",
       "      <th>title</th>\n",
       "      <th>first_author</th>\n",
       "      <th>year</th>\n",
       "    </tr>\n",
       "  </thead>\n",
       "  <tbody>\n",
       "    <tr>\n",
       "      <th>0</th>\n",
       "      <td>2020: A Summary Of Artefactual Field Experimen...</td>\n",
       "      <td>List John A</td>\n",
       "      <td>2020</td>\n",
       "    </tr>\n",
       "    <tr>\n",
       "      <th>1</th>\n",
       "      <td>2020: A Summary Of Framed Field Experiments On...</td>\n",
       "      <td>List John A</td>\n",
       "      <td>2020</td>\n",
       "    </tr>\n",
       "    <tr>\n",
       "      <th>2</th>\n",
       "      <td>2020 Summary Data Of Natural Field Experiments...</td>\n",
       "      <td>List John A</td>\n",
       "      <td>2020</td>\n",
       "    </tr>\n",
       "    <tr>\n",
       "      <th>3</th>\n",
       "      <td>2021 Summary Data Of Artefactual Field Experim...</td>\n",
       "      <td>List John A</td>\n",
       "      <td>2022</td>\n",
       "    </tr>\n",
       "    <tr>\n",
       "      <th>4</th>\n",
       "      <td>2021 Summary Data Of Natural Field Experiments...</td>\n",
       "      <td>List John A</td>\n",
       "      <td></td>\n",
       "    </tr>\n",
       "    <tr>\n",
       "      <th>5</th>\n",
       "      <td>Academic Economists Behaving Badly? A Survey O...</td>\n",
       "      <td>Bailey Charles</td>\n",
       "      <td>2001</td>\n",
       "    </tr>\n",
       "    <tr>\n",
       "      <th>6</th>\n",
       "      <td>Achievement Awards For High School Matriculati...</td>\n",
       "      <td>Angrist Joshua D</td>\n",
       "      <td>2003</td>\n",
       "    </tr>\n",
       "    <tr>\n",
       "      <th>7</th>\n",
       "      <td>Actions And Beliefs: Estimating Distribution-B...</td>\n",
       "      <td>Bellemare Charles</td>\n",
       "      <td>2005</td>\n",
       "    </tr>\n",
       "    <tr>\n",
       "      <th>8</th>\n",
       "      <td>Active Decisions And Pro-Social Behavior: A Fi...</td>\n",
       "      <td>Goette Lorenz</td>\n",
       "      <td>2007</td>\n",
       "    </tr>\n",
       "    <tr>\n",
       "      <th>9</th>\n",
       "      <td>A Dollar For Your Thoughts: Feedback-Condition...</td>\n",
       "      <td>Cabral Luis</td>\n",
       "      <td>2015</td>\n",
       "    </tr>\n",
       "  </tbody>\n",
       "</table>\n",
       "</div>"
      ],
      "text/plain": [
       "                                               title        first_author  year\n",
       "0  2020: A Summary Of Artefactual Field Experimen...         List John A  2020\n",
       "1  2020: A Summary Of Framed Field Experiments On...         List John A  2020\n",
       "2  2020 Summary Data Of Natural Field Experiments...         List John A  2020\n",
       "3  2021 Summary Data Of Artefactual Field Experim...         List John A  2022\n",
       "4  2021 Summary Data Of Natural Field Experiments...         List John A      \n",
       "5  Academic Economists Behaving Badly? A Survey O...     Bailey Charles   2001\n",
       "6  Achievement Awards For High School Matriculati...    Angrist Joshua D  2003\n",
       "7  Actions And Beliefs: Estimating Distribution-B...  Bellemare Charles   2005\n",
       "8  Active Decisions And Pro-Social Behavior: A Fi...      Goette Lorenz   2007\n",
       "9  A Dollar For Your Thoughts: Feedback-Condition...        Cabral Luis   2015"
      ]
     },
     "execution_count": 37,
     "metadata": {},
     "output_type": "execute_result"
    }
   ],
   "source": [
    "import pandas as pd\n",
    "\n",
    "df = pd.DataFrame(d)\n",
    "df"
   ]
  },
  {
   "cell_type": "code",
   "execution_count": 38,
   "id": "1da1b22b-7f61-467d-9447-be4b8b3fa932",
   "metadata": {},
   "outputs": [],
   "source": [
    "import os\n",
    "\n",
    "csvFilePath = os.path.join(os.getcwd(), 'fe_scrape.csv')\n",
    "df.to_csv(csvFilePath, index=False)"
   ]
  },
  {
   "cell_type": "code",
   "execution_count": 40,
   "id": "fe275eba-980f-43f2-9090-2d68584a7819",
   "metadata": {},
   "outputs": [
    {
     "name": "stdout",
     "output_type": "stream",
     "text": [
      "http://www.fieldexperiments.com/papers/?page=1\n",
      "http://www.fieldexperiments.com/papers/?page=2\n",
      "http://www.fieldexperiments.com/papers/?page=3\n",
      "http://www.fieldexperiments.com/papers/?page=4\n",
      "http://www.fieldexperiments.com/papers/?page=5\n",
      "http://www.fieldexperiments.com/papers/?page=6\n",
      "http://www.fieldexperiments.com/papers/?page=7\n",
      "http://www.fieldexperiments.com/papers/?page=8\n",
      "http://www.fieldexperiments.com/papers/?page=9\n",
      "http://www.fieldexperiments.com/papers/?page=10\n",
      "http://www.fieldexperiments.com/papers/?page=11\n",
      "http://www.fieldexperiments.com/papers/?page=12\n",
      "http://www.fieldexperiments.com/papers/?page=13\n",
      "http://www.fieldexperiments.com/papers/?page=14\n",
      "http://www.fieldexperiments.com/papers/?page=15\n",
      "http://www.fieldexperiments.com/papers/?page=16\n",
      "http://www.fieldexperiments.com/papers/?page=17\n",
      "http://www.fieldexperiments.com/papers/?page=18\n",
      "http://www.fieldexperiments.com/papers/?page=19\n",
      "http://www.fieldexperiments.com/papers/?page=20\n",
      "http://www.fieldexperiments.com/papers/?page=21\n",
      "http://www.fieldexperiments.com/papers/?page=22\n",
      "http://www.fieldexperiments.com/papers/?page=23\n",
      "http://www.fieldexperiments.com/papers/?page=24\n",
      "http://www.fieldexperiments.com/papers/?page=25\n",
      "http://www.fieldexperiments.com/papers/?page=26\n",
      "http://www.fieldexperiments.com/papers/?page=27\n",
      "http://www.fieldexperiments.com/papers/?page=28\n",
      "http://www.fieldexperiments.com/papers/?page=29\n",
      "http://www.fieldexperiments.com/papers/?page=30\n",
      "http://www.fieldexperiments.com/papers/?page=31\n",
      "http://www.fieldexperiments.com/papers/?page=32\n",
      "http://www.fieldexperiments.com/papers/?page=33\n",
      "http://www.fieldexperiments.com/papers/?page=34\n",
      "http://www.fieldexperiments.com/papers/?page=35\n",
      "http://www.fieldexperiments.com/papers/?page=36\n",
      "http://www.fieldexperiments.com/papers/?page=37\n",
      "http://www.fieldexperiments.com/papers/?page=38\n",
      "http://www.fieldexperiments.com/papers/?page=39\n",
      "http://www.fieldexperiments.com/papers/?page=40\n",
      "http://www.fieldexperiments.com/papers/?page=41\n",
      "http://www.fieldexperiments.com/papers/?page=42\n",
      "http://www.fieldexperiments.com/papers/?page=43\n",
      "http://www.fieldexperiments.com/papers/?page=44\n",
      "http://www.fieldexperiments.com/papers/?page=45\n",
      "http://www.fieldexperiments.com/papers/?page=46\n",
      "http://www.fieldexperiments.com/papers/?page=47\n",
      "http://www.fieldexperiments.com/papers/?page=48\n",
      "http://www.fieldexperiments.com/papers/?page=49\n",
      "http://www.fieldexperiments.com/papers/?page=50\n",
      "http://www.fieldexperiments.com/papers/?page=51\n",
      "http://www.fieldexperiments.com/papers/?page=52\n",
      "http://www.fieldexperiments.com/papers/?page=53\n",
      "http://www.fieldexperiments.com/papers/?page=54\n",
      "http://www.fieldexperiments.com/papers/?page=55\n",
      "http://www.fieldexperiments.com/papers/?page=56\n",
      "http://www.fieldexperiments.com/papers/?page=57\n",
      "http://www.fieldexperiments.com/papers/?page=58\n",
      "http://www.fieldexperiments.com/papers/?page=59\n",
      "http://www.fieldexperiments.com/papers/?page=60\n",
      "http://www.fieldexperiments.com/papers/?page=61\n",
      "http://www.fieldexperiments.com/papers/?page=62\n",
      "http://www.fieldexperiments.com/papers/?page=63\n",
      "http://www.fieldexperiments.com/papers/?page=64\n",
      "http://www.fieldexperiments.com/papers/?page=65\n",
      "http://www.fieldexperiments.com/papers/?page=66\n",
      "http://www.fieldexperiments.com/papers/?page=67\n",
      "http://www.fieldexperiments.com/papers/?page=68\n",
      "http://www.fieldexperiments.com/papers/?page=69\n",
      "http://www.fieldexperiments.com/papers/?page=70\n"
     ]
    }
   ],
   "source": [
    "d = []\n",
    "for i in range(1,71):\n",
    "    url = f'http://www.fieldexperiments.com/papers/?page={i}'\n",
    "    print(url)\n",
    "    \n",
    "    ## run all the code to parse the html further\n",
    "    \n",
    "    d.append(tempDict)\n",
    "    \n",
    "## create dataframe and export to csv\n"
   ]
  },
  {
   "cell_type": "code",
   "execution_count": null,
   "id": "814b4aef-f44e-440e-8e6a-b63313ac048a",
   "metadata": {},
   "outputs": [],
   "source": []
  }
 ],
 "metadata": {
  "kernelspec": {
   "display_name": "Python 3",
   "language": "python",
   "name": "python3"
  },
  "language_info": {
   "codemirror_mode": {
    "name": "ipython",
    "version": 3
   },
   "file_extension": ".py",
   "mimetype": "text/x-python",
   "name": "python",
   "nbconvert_exporter": "python",
   "pygments_lexer": "ipython3",
   "version": "3.9.5"
  }
 },
 "nbformat": 4,
 "nbformat_minor": 5
}
