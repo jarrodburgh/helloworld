{
 "cells": [
  {
   "cell_type": "markdown",
   "id": "f2068533-d1ec-4216-8307-d04c21aa9cfd",
   "metadata": {},
   "source": [
    "## Variables and DataTypes\n",
    "\n",
    "In This section I cover defining variables in Python."
   ]
  },
  {
   "cell_type": "code",
   "execution_count": 12,
   "id": "5f2de83b-3a57-459f-9cf4-67ff412ff616",
   "metadata": {},
   "outputs": [],
   "source": [
    "anInt = 2\n",
    "aFloat = 5.0\n",
    "aString = 'hello'\n",
    "aList = [1,2,3]\n",
    "aDict = {'joe': 5, 'wally': 2}"
   ]
  },
  {
   "cell_type": "code",
   "execution_count": 2,
   "id": "fdbda247-405f-4586-ad2f-45269b750e30",
   "metadata": {},
   "outputs": [
    {
     "name": "stdout",
     "output_type": "stream",
     "text": [
      "2\n"
     ]
    }
   ],
   "source": [
    "print(anInt)"
   ]
  },
  {
   "cell_type": "code",
   "execution_count": 9,
   "id": "311fbe9a-99c4-4755-9ff9-aa2b7de451b2",
   "metadata": {},
   "outputs": [
    {
     "data": {
      "text/plain": [
       "float"
      ]
     },
     "execution_count": 9,
     "metadata": {},
     "output_type": "execute_result"
    }
   ],
   "source": [
    "type(aFloat)"
   ]
  },
  {
   "cell_type": "code",
   "execution_count": 10,
   "id": "c522638f-66c4-4599-a44c-a2e07350987a",
   "metadata": {},
   "outputs": [
    {
     "data": {
      "text/plain": [
       "str"
      ]
     },
     "execution_count": 10,
     "metadata": {},
     "output_type": "execute_result"
    }
   ],
   "source": [
    "type(aString)"
   ]
  },
  {
   "cell_type": "markdown",
   "id": "51f17b9c-2931-4445-8451-8b18a623d26f",
   "metadata": {},
   "source": [
    "## Modules\n",
    "\n",
    "Here we use two built-in Python modules: os and math"
   ]
  },
  {
   "cell_type": "code",
   "execution_count": 18,
   "id": "776d00dc-6b2d-4ac8-9a9c-b2297dd36fb1",
   "metadata": {},
   "outputs": [],
   "source": [
    "import math, os"
   ]
  },
  {
   "cell_type": "code",
   "execution_count": 15,
   "id": "3148ced9-7dff-4d84-afec-998bb66de88f",
   "metadata": {},
   "outputs": [
    {
     "name": "stdout",
     "output_type": "stream",
     "text": [
      "3.141592653589793\n"
     ]
    }
   ],
   "source": [
    "print(math.pi)"
   ]
  },
  {
   "cell_type": "code",
   "execution_count": 16,
   "id": "1fabcec3-3be0-484c-bc67-ff7a608c3d8e",
   "metadata": {},
   "outputs": [],
   "source": [
    "import os"
   ]
  },
  {
   "cell_type": "code",
   "execution_count": 17,
   "id": "f1ecb675-24f5-4491-96eb-bbffc7478c4e",
   "metadata": {},
   "outputs": [
    {
     "data": {
      "text/plain": [
       "'/Users/Jarrod/helloworld'"
      ]
     },
     "execution_count": 17,
     "metadata": {},
     "output_type": "execute_result"
    }
   ],
   "source": [
    "os.getcwd()"
   ]
  },
  {
   "cell_type": "markdown",
   "id": "dbc18945-fa71-4453-a5b9-7f4cc0f5d900",
   "metadata": {},
   "source": [
    "## Python as Calculator"
   ]
  },
  {
   "cell_type": "code",
   "execution_count": 19,
   "id": "ff902f03-2365-4104-881e-802a8b33db0d",
   "metadata": {},
   "outputs": [
    {
     "data": {
      "text/plain": [
       "4"
      ]
     },
     "execution_count": 19,
     "metadata": {},
     "output_type": "execute_result"
    }
   ],
   "source": [
    "2+2"
   ]
  },
  {
   "cell_type": "code",
   "execution_count": 20,
   "id": "744a911a-d29a-4fe5-baff-44edf2834ac4",
   "metadata": {},
   "outputs": [
    {
     "name": "stdout",
     "output_type": "stream",
     "text": [
      "9\n"
     ]
    }
   ],
   "source": [
    "product = 3*3\n",
    "print(product)"
   ]
  },
  {
   "cell_type": "code",
   "execution_count": 21,
   "id": "8d728b04-5d45-4a83-bd11-3db49862b9b0",
   "metadata": {},
   "outputs": [
    {
     "data": {
      "text/plain": [
       "2.0"
      ]
     },
     "execution_count": 21,
     "metadata": {},
     "output_type": "execute_result"
    }
   ],
   "source": [
    "a = 50\n",
    "b = 25\n",
    "a/b"
   ]
  },
  {
   "cell_type": "code",
   "execution_count": 22,
   "id": "f0a30fe5-19de-43ed-bd53-b2eb91a9d77d",
   "metadata": {},
   "outputs": [
    {
     "name": "stdout",
     "output_type": "stream",
     "text": [
      "2500\n"
     ]
    }
   ],
   "source": [
    "asquared = a**2\n",
    "print(asquared)"
   ]
  },
  {
   "cell_type": "markdown",
   "id": "d684b290-f25f-44e1-b751-953718aa96f5",
   "metadata": {},
   "source": [
    "## List\n",
    "\n",
    "A list is an ordered set of objects"
   ]
  },
  {
   "cell_type": "code",
   "execution_count": 36,
   "id": "9f44c52b-8830-4ce9-9b14-ca27c2d1f4ae",
   "metadata": {},
   "outputs": [],
   "source": [
    "ints = [1,2,3,4]\n",
    "reals = [1,2,3.5,4]\n",
    "strings = ['h', 'e', 'l', 'l', 'o']\n",
    "combo = [1, 'h', 2, 'l', 3]"
   ]
  },
  {
   "cell_type": "code",
   "execution_count": 30,
   "id": "96e59b9c-0894-4d4e-a1dc-644cac405f5e",
   "metadata": {},
   "outputs": [
    {
     "name": "stdout",
     "output_type": "stream",
     "text": [
      "1\n",
      "4\n",
      "4\n"
     ]
    }
   ],
   "source": [
    "print(ints[0])\n",
    "print(ints[3])\n",
    "print(ints[-1])"
   ]
  },
  {
   "cell_type": "code",
   "execution_count": 33,
   "id": "8a42d35d-3100-4321-89d6-86ca9677dd21",
   "metadata": {},
   "outputs": [
    {
     "name": "stdout",
     "output_type": "stream",
     "text": [
      "[2, 3]\n",
      "[1, 2]\n",
      "[3, 4]\n"
     ]
    }
   ],
   "source": [
    "# splicing\n",
    "print(ints[1:3])\n",
    "print(ints[:2])\n",
    "print(ints[2:])"
   ]
  },
  {
   "cell_type": "code",
   "execution_count": 34,
   "id": "8cfe426b-e44b-406b-a9b5-dbec595fd41f",
   "metadata": {},
   "outputs": [
    {
     "name": "stdout",
     "output_type": "stream",
     "text": [
      "[1, 2, 3, 4, 5]\n"
     ]
    }
   ],
   "source": [
    "ints.append(5)\n",
    "print(ints)"
   ]
  },
  {
   "cell_type": "code",
   "execution_count": 35,
   "id": "17323c8c-6e76-4775-ae98-69815f1f3639",
   "metadata": {},
   "outputs": [
    {
     "name": "stdout",
     "output_type": "stream",
     "text": [
      "[1, 2, 3, 4]\n",
      "5\n"
     ]
    }
   ],
   "source": [
    "lastItem = ints.pop()\n",
    "print(ints)\n",
    "print(lastItem)"
   ]
  },
  {
   "cell_type": "code",
   "execution_count": 39,
   "id": "7aebc0b8-c74d-4a0b-9959-d1e90837e787",
   "metadata": {},
   "outputs": [
    {
     "name": "stdout",
     "output_type": "stream",
     "text": [
      "1\n",
      "2\n",
      "3\n",
      "4\n",
      "[1, 2, 3, 4]\n"
     ]
    }
   ],
   "source": [
    "for i in ints:\n",
    "    print(i)\n",
    "    \n",
    "print(ints)"
   ]
  },
  {
   "cell_type": "markdown",
   "id": "fc241f0f-b27d-4f70-a145-886fde635f0c",
   "metadata": {},
   "source": [
    "## Dictionaries\n",
    "\n",
    "Dictionaries are used in Python to store key:value pairs."
   ]
  },
  {
   "cell_type": "code",
   "execution_count": 1,
   "id": "ce617d90-d953-4ef5-b191-4dbe27110719",
   "metadata": {},
   "outputs": [],
   "source": [
    "aDict = {'joe': 4, 'wally': 2}"
   ]
  },
  {
   "cell_type": "code",
   "execution_count": 3,
   "id": "0f8a1e49-568e-4002-9c65-6d72717cb86d",
   "metadata": {},
   "outputs": [
    {
     "name": "stdout",
     "output_type": "stream",
     "text": [
      "{'joe': 4, 'wally': 2}\n"
     ]
    }
   ],
   "source": [
    "print(aDict)"
   ]
  },
  {
   "cell_type": "code",
   "execution_count": 4,
   "id": "09556916-d07f-4c64-85af-d0e96aaa411e",
   "metadata": {},
   "outputs": [
    {
     "name": "stdout",
     "output_type": "stream",
     "text": [
      "{'joe': 1, 'wally': 2}\n"
     ]
    }
   ],
   "source": [
    "aDict['joe'] = 1\n",
    "print(aDict)"
   ]
  },
  {
   "cell_type": "code",
   "execution_count": 5,
   "id": "e4722cae-bd05-4a48-a9e2-ad0635b47815",
   "metadata": {},
   "outputs": [
    {
     "data": {
      "text/plain": [
       "2"
      ]
     },
     "execution_count": 5,
     "metadata": {},
     "output_type": "execute_result"
    }
   ],
   "source": [
    "aDict['wally']"
   ]
  },
  {
   "cell_type": "code",
   "execution_count": 6,
   "id": "274c1296-cf03-4525-bb68-5d303be4ded4",
   "metadata": {},
   "outputs": [
    {
     "name": "stdout",
     "output_type": "stream",
     "text": [
      "{'joe': 1}\n"
     ]
    }
   ],
   "source": [
    "del aDict['wally']\n",
    "print(aDict)"
   ]
  },
  {
   "cell_type": "code",
   "execution_count": 9,
   "id": "486ca26f-8ed2-48c1-aeb6-37c6dc743e17",
   "metadata": {},
   "outputs": [
    {
     "name": "stdout",
     "output_type": "stream",
     "text": [
      "{'joe': 1, 'isla': 0}\n"
     ]
    }
   ],
   "source": [
    "aDict['isla'] = 0\n",
    "print(aDict)"
   ]
  },
  {
   "cell_type": "markdown",
   "id": "ae038681-ee97-4de3-9d02-f5f82cb6d54f",
   "metadata": {},
   "source": [
    "## If Statements\n",
    "\n",
    "We can use `if` statements to control or decide which code will be executed"
   ]
  },
  {
   "cell_type": "code",
   "execution_count": 14,
   "id": "35c246f3-25e3-40c5-8264-d0ad504387d0",
   "metadata": {},
   "outputs": [
    {
     "name": "stdout",
     "output_type": "stream",
     "text": [
      "value is less than 200\n"
     ]
    }
   ],
   "source": [
    "value = 5\n",
    "\n",
    "if value < 200:\n",
    "    print('value is less than 200')\n",
    "else:\n",
    "    print('value is greater than or equal to 200')"
   ]
  },
  {
   "cell_type": "markdown",
   "id": "15571203-996e-4399-87a0-19bf0b4cb925",
   "metadata": {},
   "source": [
    "## Comparison Operators\n",
    "\n",
    "Comparison operaters can compare to values"
   ]
  },
  {
   "cell_type": "code",
   "execution_count": 15,
   "id": "e761ec9d-5d60-4322-afed-49ac4a08ce80",
   "metadata": {},
   "outputs": [
    {
     "name": "stdout",
     "output_type": "stream",
     "text": [
      "True\n"
     ]
    }
   ],
   "source": [
    "print(1 == 1)"
   ]
  },
  {
   "cell_type": "code",
   "execution_count": 17,
   "id": "a911d5d2-7295-4185-a076-3250c1e5942a",
   "metadata": {},
   "outputs": [
    {
     "name": "stdout",
     "output_type": "stream",
     "text": [
      "True\n"
     ]
    }
   ],
   "source": [
    "print(1 != 2)"
   ]
  },
  {
   "cell_type": "code",
   "execution_count": 19,
   "id": "4a203427-c88e-4f86-8a48-e3a1dd77c9da",
   "metadata": {},
   "outputs": [
    {
     "name": "stdout",
     "output_type": "stream",
     "text": [
      "False\n",
      "False\n"
     ]
    },
    {
     "data": {
      "text/plain": [
       "bool"
      ]
     },
     "execution_count": 19,
     "metadata": {},
     "output_type": "execute_result"
    }
   ],
   "source": [
    "gt = 1 >2\n",
    "gte = 1 >= 2\n",
    "print(gt)\n",
    "print(gte)\n",
    "type(gt)"
   ]
  },
  {
   "cell_type": "code",
   "execution_count": 21,
   "id": "2b2db855-7f01-4a7b-8fd9-39da0a5d30c6",
   "metadata": {},
   "outputs": [
    {
     "name": "stdout",
     "output_type": "stream",
     "text": [
      "True\n"
     ]
    }
   ],
   "source": [
    "print(gte == 0)"
   ]
  },
  {
   "cell_type": "code",
   "execution_count": 24,
   "id": "81ee569d-9744-415d-a751-0bf68d61718a",
   "metadata": {},
   "outputs": [
    {
     "name": "stdout",
     "output_type": "stream",
     "text": [
      "True\n",
      "True\n"
     ]
    }
   ],
   "source": [
    "lt = 1 < 2\n",
    "lte = 1<= 2\n",
    "print(lt)\n",
    "print(lte)"
   ]
  },
  {
   "cell_type": "markdown",
   "id": "9d339964-ac0e-4dda-8112-cd670a9c1844",
   "metadata": {},
   "source": [
    "## Logical Operators\n",
    "\n",
    "Logical operators are used to combine conditional statements"
   ]
  },
  {
   "cell_type": "code",
   "execution_count": 25,
   "id": "b471a6ac-5731-4110-97d2-b36b3d9a643b",
   "metadata": {},
   "outputs": [
    {
     "name": "stdout",
     "output_type": "stream",
     "text": [
      "True\n"
     ]
    }
   ],
   "source": [
    "print(1 < 2 and 2 < 3)"
   ]
  },
  {
   "cell_type": "code",
   "execution_count": 26,
   "id": "bfec46f5-bb44-4324-b67b-66153277b771",
   "metadata": {},
   "outputs": [
    {
     "name": "stdout",
     "output_type": "stream",
     "text": [
      "True\n"
     ]
    }
   ],
   "source": [
    "print(1<2 or 2 > 3)"
   ]
  },
  {
   "cell_type": "code",
   "execution_count": 28,
   "id": "326fa188-50a3-4fd4-9a86-036a9b7fdea1",
   "metadata": {},
   "outputs": [
    {
     "name": "stdout",
     "output_type": "stream",
     "text": [
      "True\n"
     ]
    }
   ],
   "source": [
    "print(not(1>2))"
   ]
  },
  {
   "cell_type": "markdown",
   "id": "922a8385-978d-4fc4-9c5f-7948ab61a0b6",
   "metadata": {},
   "source": [
    "## Custom Funcions/Methods"
   ]
  },
  {
   "cell_type": "code",
   "execution_count": 29,
   "id": "f69c25fc-a99d-4024-b455-aaf05227808f",
   "metadata": {},
   "outputs": [],
   "source": [
    "def hello_world():\n",
    "    print('hello world')"
   ]
  },
  {
   "cell_type": "code",
   "execution_count": 31,
   "id": "040278e1-6b4b-46a2-83a3-661bb48b163b",
   "metadata": {},
   "outputs": [
    {
     "name": "stdout",
     "output_type": "stream",
     "text": [
      "hello world\n"
     ]
    }
   ],
   "source": [
    "hello_world()"
   ]
  },
  {
   "cell_type": "code",
   "execution_count": 33,
   "id": "8e5c0752-9a81-49e7-97f2-fb9030398b82",
   "metadata": {},
   "outputs": [],
   "source": [
    "def bigger(a, b):\n",
    "    #this will return whichever value a or b is larger\n",
    "    if a > b:\n",
    "        result = a\n",
    "    else:\n",
    "        result = b\n",
    "    return result"
   ]
  },
  {
   "cell_type": "code",
   "execution_count": 38,
   "id": "10ff01bf-be86-43f8-ab3b-2056ce82543d",
   "metadata": {},
   "outputs": [
    {
     "name": "stdout",
     "output_type": "stream",
     "text": [
      "6\n"
     ]
    }
   ],
   "source": [
    "print(bigger(1,6))"
   ]
  },
  {
   "cell_type": "markdown",
   "id": "331aa597-33a1-446d-aac6-35ab64e645d8",
   "metadata": {},
   "source": [
    "## Classes\n",
    "\n",
    " Classes allow us to create a new type of oject that allow for added functionality"
   ]
  },
  {
   "cell_type": "code",
   "execution_count": 45,
   "id": "c6919855-00ec-43d4-8757-eb997388641b",
   "metadata": {},
   "outputs": [],
   "source": [
    "class Agent:\n",
    "    \n",
    "    def __init__(self, u, e):\n",
    "        self.u = u\n",
    "        self.e = e\n",
    "        \n",
    "    def get_utility(self, x,y):\n",
    "        if self.u == 'linear':\n",
    "            result = x + y\n",
    "        if self.u == 'leontief':\n",
    "            result = min(x,y)\n",
    "        return result"
   ]
  },
  {
   "cell_type": "code",
   "execution_count": 46,
   "id": "2ffd43d6-bc13-4f2c-9a08-518a6925f346",
   "metadata": {},
   "outputs": [
    {
     "name": "stdout",
     "output_type": "stream",
     "text": [
      "linear 10\n"
     ]
    }
   ],
   "source": [
    "agent1 = Agent('linear', 10)\n",
    "print(agent1.u, agent1.e)"
   ]
  },
  {
   "cell_type": "code",
   "execution_count": 47,
   "id": "94025c9c-fc69-4cc8-8d91-9a4fbc3f3012",
   "metadata": {},
   "outputs": [
    {
     "name": "stdout",
     "output_type": "stream",
     "text": [
      "leontief 20\n"
     ]
    }
   ],
   "source": [
    "agent2 = Agent('leontief', 20)\n",
    "print(agent2.u, agent2.e)"
   ]
  },
  {
   "cell_type": "code",
   "execution_count": 48,
   "id": "1e7f6d85-8fe5-4d04-be6d-a2ae7c817464",
   "metadata": {},
   "outputs": [
    {
     "data": {
      "text/plain": [
       "15"
      ]
     },
     "execution_count": 48,
     "metadata": {},
     "output_type": "execute_result"
    }
   ],
   "source": [
    "agent1.get_utility(5,10)"
   ]
  },
  {
   "cell_type": "code",
   "execution_count": 49,
   "id": "7af17f0d-e1cd-454e-a14f-edfbd9b700df",
   "metadata": {},
   "outputs": [
    {
     "data": {
      "text/plain": [
       "5"
      ]
     },
     "execution_count": 49,
     "metadata": {},
     "output_type": "execute_result"
    }
   ],
   "source": [
    "agent2.get_utility(5,10)"
   ]
  },
  {
   "cell_type": "markdown",
   "id": "26be5f74-a938-4747-bfed-99b063443e35",
   "metadata": {},
   "source": [
    "## Objects in Python"
   ]
  },
  {
   "cell_type": "code",
   "execution_count": 52,
   "id": "de170d9c-e9cb-4ccf-b2a5-ca5666dfbab3",
   "metadata": {},
   "outputs": [],
   "source": [
    "alist = [1,2,3]"
   ]
  },
  {
   "cell_type": "code",
   "execution_count": 53,
   "id": "1a2142d6-628a-4608-896f-039832dfdde0",
   "metadata": {},
   "outputs": [
    {
     "name": "stdout",
     "output_type": "stream",
     "text": [
      "[1, 2, 3, 4]\n"
     ]
    }
   ],
   "source": [
    "alist.append(4)\n",
    "print(alist)"
   ]
  },
  {
   "cell_type": "markdown",
   "id": "357239d3-4ee0-4cb7-9497-9e9e71dcd8fe",
   "metadata": {},
   "source": [
    "## Strings"
   ]
  },
  {
   "cell_type": "code",
   "execution_count": 74,
   "id": "ab0515b3-d31d-4a86-afab-1cd524afe1ff",
   "metadata": {},
   "outputs": [],
   "source": [
    "aString = 'hello$world'\n",
    "# Hello, World!"
   ]
  },
  {
   "cell_type": "code",
   "execution_count": 75,
   "id": "36d971cf-099d-45ff-bd62-e74262769134",
   "metadata": {},
   "outputs": [
    {
     "name": "stdout",
     "output_type": "stream",
     "text": [
      "hello world\n"
     ]
    }
   ],
   "source": [
    "aString = aString.replace('$', ' ')\n",
    "print(aString)"
   ]
  },
  {
   "cell_type": "code",
   "execution_count": 76,
   "id": "b9cabf20-8564-4eef-bbdb-cb90a6045277",
   "metadata": {},
   "outputs": [
    {
     "name": "stdout",
     "output_type": "stream",
     "text": [
      "Hello World\n"
     ]
    }
   ],
   "source": [
    "aString = aString.title()\n",
    "print(aString)"
   ]
  },
  {
   "cell_type": "code",
   "execution_count": 77,
   "id": "275ae71d-8d5f-4e9e-8cf6-24f27abe9738",
   "metadata": {},
   "outputs": [
    {
     "name": "stdout",
     "output_type": "stream",
     "text": [
      "Hello World\n"
     ]
    }
   ],
   "source": [
    "hello, world = aString.split(' ')\n",
    "print(hello, world)"
   ]
  },
  {
   "cell_type": "code",
   "execution_count": 78,
   "id": "ddd64a61-e44f-4d44-94d8-6ae688f604d7",
   "metadata": {},
   "outputs": [],
   "source": [
    "hello = hello + ','\n",
    "world = world + '!'\n",
    "aString = hello + ' ' + world"
   ]
  },
  {
   "cell_type": "code",
   "execution_count": 79,
   "id": "e3d6ee0c-f1e5-4503-8d6c-1e4ee1e13bec",
   "metadata": {},
   "outputs": [
    {
     "data": {
      "text/plain": [
       "'Hello, World!'"
      ]
     },
     "execution_count": 79,
     "metadata": {},
     "output_type": "execute_result"
    }
   ],
   "source": [
    "aString"
   ]
  },
  {
   "cell_type": "code",
   "execution_count": null,
   "id": "4c207c07-3af1-43f0-83b0-f902cfaa4e4a",
   "metadata": {},
   "outputs": [],
   "source": []
  }
 ],
 "metadata": {
  "kernelspec": {
   "display_name": "Python 3",
   "language": "python",
   "name": "python3"
  },
  "language_info": {
   "codemirror_mode": {
    "name": "ipython",
    "version": 3
   },
   "file_extension": ".py",
   "mimetype": "text/x-python",
   "name": "python",
   "nbconvert_exporter": "python",
   "pygments_lexer": "ipython3",
   "version": "3.9.5"
  }
 },
 "nbformat": 4,
 "nbformat_minor": 5
}
