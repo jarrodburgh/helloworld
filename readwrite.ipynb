{
 "cells": [
  {
   "cell_type": "code",
   "execution_count": 1,
   "id": "33961838-5db2-4fdc-af83-34285ef0effe",
   "metadata": {},
   "outputs": [],
   "source": [
    "import os, csv\n",
    "import random"
   ]
  },
  {
   "cell_type": "code",
   "execution_count": 2,
   "id": "42bfc95c-5ebf-43f6-81cc-b5d6df836f2d",
   "metadata": {},
   "outputs": [
    {
     "name": "stdout",
     "output_type": "stream",
     "text": [
      "/Users/Jarrod/helloworld\n"
     ]
    }
   ],
   "source": [
    "print(os.getcwd())"
   ]
  },
  {
   "cell_type": "code",
   "execution_count": 3,
   "id": "2f83b0e5-16aa-46ff-aab1-0a50feb9cada",
   "metadata": {},
   "outputs": [
    {
     "name": "stdout",
     "output_type": "stream",
     "text": [
      "/Users/Jarrod/helloworld/roster.csv\n"
     ]
    }
   ],
   "source": [
    "path1 = os.getcwd()\n",
    "path2 = 'roster.csv'\n",
    "csvFilePath = os.path.join(path1, path2)\n",
    "print(csvFilePath)"
   ]
  },
  {
   "cell_type": "markdown",
   "id": "25692a3c-b676-4500-be62-e4b794f233cb",
   "metadata": {},
   "source": [
    "### Reading csv files"
   ]
  },
  {
   "cell_type": "code",
   "execution_count": 4,
   "id": "b8756222-83b6-4358-87ae-6d883dd2bcfa",
   "metadata": {},
   "outputs": [
    {
     "name": "stdout",
     "output_type": "stream",
     "text": [
      "[{'name': 'Joe'}, {'name': 'Jihuan'}, {'name': 'Ali'}, {'name': 'Frances'}, {'name': 'Daniela V'}, {'name': 'Mostafa'}, {'name': 'Daniela P'}, {'name': 'Cesar'}, {'name': 'Jarrod'}, {'name': 'Austin'}, {'name': 'Jack'}, {'name': 'Ala'}, {'name': 'Sergii'}, {'name': 'Miles'}, {'name': 'Hyeyun'}, {'name': 'Volodymyr'}, {'name': 'Yijia'}, {'name': 'Hsin-Yun'}, {'name': 'Renata'}, {'name': 'Max'}, {'name': 'Joshua'}, {'name': 'David'}]\n"
     ]
    }
   ],
   "source": [
    "with open(csvFilePath, mode='r', newline ='', encoding='utf-8-sig') as csvFile:\n",
    "    reader = csv.reader(csvFile, delimiter=',')\n",
    "    header = next(reader)\n",
    "    roster = []\n",
    "    for row in reader:\n",
    "        temp = {'name': row[0]}\n",
    "        roster.append(temp)\n",
    "        \n",
    "    print(roster)"
   ]
  },
  {
   "cell_type": "markdown",
   "id": "fcc940fc-2fbc-41cb-991b-35c18c3fac44",
   "metadata": {},
   "source": [
    "### Modifying the Data"
   ]
  },
  {
   "cell_type": "code",
   "execution_count": 5,
   "id": "1a702c79-13be-4c27-b54f-f9bdb9d96fd9",
   "metadata": {},
   "outputs": [
    {
     "name": "stdout",
     "output_type": "stream",
     "text": [
      "[{'name': 'Joe'}, {'name': 'Jihuan'}, {'name': 'Ali'}, {'name': 'Frances'}, {'name': 'Daniela V'}, {'name': 'Mostafa'}, {'name': 'Daniela P'}, {'name': 'Cesar'}, {'name': 'Jarrod'}, {'name': 'Austin'}, {'name': 'Jack'}, {'name': 'Ala'}, {'name': 'Sergii'}, {'name': 'Miles'}, {'name': 'Hyeyun'}, {'name': 'Volodymyr'}, {'name': 'Yijia'}, {'name': 'Hsin-Yun'}, {'name': 'Renata'}, {'name': 'Max'}, {'name': 'Joshua'}, {'name': 'David'}, {'name': 'Wally'}]\n"
     ]
    }
   ],
   "source": [
    "## Add someone who is missing\n",
    "roster.append({'name': 'Wally'})\n",
    "print(roster)"
   ]
  },
  {
   "cell_type": "markdown",
   "id": "72b2c5c3-a42f-4567-896a-6d8c2c6e48f0",
   "metadata": {},
   "source": [
    "Assign Grades"
   ]
  },
  {
   "cell_type": "code",
   "execution_count": 6,
   "id": "b0d34f88-3f96-4a54-8f83-fb699a5be57b",
   "metadata": {},
   "outputs": [],
   "source": [
    "random.seed(1)"
   ]
  },
  {
   "cell_type": "code",
   "execution_count": 7,
   "id": "92b066ea-51e3-4c80-b783-098948fa98d8",
   "metadata": {},
   "outputs": [
    {
     "name": "stdout",
     "output_type": "stream",
     "text": [
      "{'name': 'Joe', 'grade': 17}\n",
      "{'name': 'Jihuan', 'grade': 72}\n",
      "{'name': 'Ali', 'grade': 97}\n",
      "{'name': 'Frances', 'grade': 8}\n",
      "{'name': 'Daniela V', 'grade': 32}\n",
      "{'name': 'Mostafa', 'grade': 15}\n",
      "{'name': 'Daniela P', 'grade': 63}\n",
      "{'name': 'Cesar', 'grade': 97}\n",
      "{'name': 'Jarrod', 'grade': 57}\n",
      "{'name': 'Austin', 'grade': 60}\n",
      "{'name': 'Jack', 'grade': 83}\n",
      "{'name': 'Ala', 'grade': 48}\n",
      "{'name': 'Sergii', 'grade': 100}\n",
      "{'name': 'Miles', 'grade': 26}\n",
      "{'name': 'Hyeyun', 'grade': 12}\n",
      "{'name': 'Volodymyr', 'grade': 62}\n",
      "{'name': 'Yijia', 'grade': 3}\n",
      "{'name': 'Hsin-Yun', 'grade': 49}\n",
      "{'name': 'Renata', 'grade': 55}\n",
      "{'name': 'Max', 'grade': 77}\n",
      "{'name': 'Joshua', 'grade': 97}\n",
      "{'name': 'David', 'grade': 98}\n",
      "{'name': 'Wally', 'grade': 0}\n"
     ]
    }
   ],
   "source": [
    "for student in roster:\n",
    "    student['grade'] = random.randint(0,100)\n",
    "    print(student)"
   ]
  },
  {
   "cell_type": "code",
   "execution_count": 8,
   "id": "85804b4c-e939-4070-b069-d61ef343c3d4",
   "metadata": {},
   "outputs": [],
   "source": [
    "def compute_mean(values):\n",
    "    n = len(values)\n",
    "    result = sum(values)/n\n",
    "    return result"
   ]
  },
  {
   "cell_type": "code",
   "execution_count": 9,
   "id": "5859c877-2903-4bdc-9d7b-56000c22680c",
   "metadata": {},
   "outputs": [
    {
     "name": "stdout",
     "output_type": "stream",
     "text": [
      "[17, 72, 97, 8, 32, 15, 63, 97, 57, 60, 83, 48, 100, 26, 12, 62, 3, 49, 55, 77, 97, 98, 0]\n"
     ]
    }
   ],
   "source": [
    "grades = []\n",
    "for student in roster:\n",
    "    grade = student['grade']\n",
    "    grades.append(grade)\n",
    "    \n",
    "print(grades)"
   ]
  },
  {
   "cell_type": "code",
   "execution_count": 10,
   "id": "a4a2e92e-4812-4b91-b942-c824c72a479c",
   "metadata": {},
   "outputs": [
    {
     "name": "stdout",
     "output_type": "stream",
     "text": [
      "53.391304347826086\n"
     ]
    }
   ],
   "source": [
    "mean = compute_mean(grades)\n",
    "print(mean)"
   ]
  },
  {
   "cell_type": "code",
   "execution_count": 11,
   "id": "0e0005e9-e01a-4b2f-9f23-5328ee247dc4",
   "metadata": {},
   "outputs": [
    {
     "name": "stdout",
     "output_type": "stream",
     "text": [
      "[{'name': 'Joe', 'grade': 17}, {'name': 'Jihuan', 'grade': 72}, {'name': 'Ali', 'grade': 97}, {'name': 'Frances', 'grade': 8}, {'name': 'Daniela V', 'grade': 32}, {'name': 'Mostafa', 'grade': 15}, {'name': 'Daniela P', 'grade': 100}, {'name': 'Cesar', 'grade': 97}, {'name': 'Jarrod', 'grade': 57}, {'name': 'Austin', 'grade': 60}, {'name': 'Jack', 'grade': 83}, {'name': 'Ala', 'grade': 48}, {'name': 'Sergii', 'grade': 100}, {'name': 'Miles', 'grade': 26}, {'name': 'Hyeyun', 'grade': 12}, {'name': 'Volodymyr', 'grade': 62}, {'name': 'Yijia', 'grade': 3}, {'name': 'Hsin-Yun', 'grade': 49}, {'name': 'Renata', 'grade': 55}, {'name': 'Max', 'grade': 77}, {'name': 'Joshua', 'grade': 97}, {'name': 'David', 'grade': 98}, {'name': 'Wally', 'grade': 0}]\n"
     ]
    }
   ],
   "source": [
    "for student in roster:\n",
    "    if student['name'] == 'Daniela P':\n",
    "        student['grade'] = 100\n",
    "        \n",
    "print(roster)"
   ]
  },
  {
   "cell_type": "code",
   "execution_count": 12,
   "id": "0db428b1-44cb-4037-b4fb-2c49fe0130f9",
   "metadata": {},
   "outputs": [
    {
     "name": "stdout",
     "output_type": "stream",
     "text": [
      "{'name': 'Joe', 'grade': 57}\n",
      "{'name': 'Jihuan', 'grade': 72}\n",
      "{'name': 'Ali', 'grade': 97}\n",
      "{'name': 'Frances', 'grade': 48}\n",
      "{'name': 'Daniela V', 'grade': 72}\n",
      "{'name': 'Mostafa', 'grade': 55}\n",
      "{'name': 'Daniela P', 'grade': 100}\n",
      "{'name': 'Cesar', 'grade': 97}\n",
      "{'name': 'Jarrod', 'grade': 57}\n",
      "{'name': 'Austin', 'grade': 60}\n",
      "{'name': 'Jack', 'grade': 83}\n",
      "{'name': 'Ala', 'grade': 88}\n",
      "{'name': 'Sergii', 'grade': 100}\n",
      "{'name': 'Miles', 'grade': 66}\n",
      "{'name': 'Hyeyun', 'grade': 52}\n",
      "{'name': 'Volodymyr', 'grade': 62}\n",
      "{'name': 'Yijia', 'grade': 43}\n",
      "{'name': 'Hsin-Yun', 'grade': 89}\n",
      "{'name': 'Renata', 'grade': 55}\n",
      "{'name': 'Max', 'grade': 77}\n",
      "{'name': 'Joshua', 'grade': 97}\n",
      "{'name': 'David', 'grade': 98}\n",
      "{'name': 'Wally', 'grade': 40}\n"
     ]
    }
   ],
   "source": [
    "for student in roster:\n",
    "    if student['grade'] < 50:\n",
    "        student['grade'] = student['grade'] + 40\n",
    "    print(student)"
   ]
  },
  {
   "cell_type": "code",
   "execution_count": 13,
   "id": "1c10955f-5d14-4e45-a238-1eb07507f7b1",
   "metadata": {},
   "outputs": [
    {
     "name": "stdout",
     "output_type": "stream",
     "text": [
      "[57, 72, 97, 48, 72, 55, 100, 97, 57, 60, 83, 88, 100, 66, 52, 62, 43, 89, 55, 77, 97, 98, 40]\n"
     ]
    }
   ],
   "source": [
    "#list comprehension\n",
    "grades = [student['grade'] for student in roster]\n",
    "print(grades)"
   ]
  },
  {
   "cell_type": "code",
   "execution_count": 14,
   "id": "85f06fc0-d8f7-43a8-9f00-d9d4e7408e01",
   "metadata": {},
   "outputs": [
    {
     "name": "stdout",
     "output_type": "stream",
     "text": [
      "72.3913043478261\n"
     ]
    }
   ],
   "source": [
    "average = compute_mean(grades)\n",
    "print(average)"
   ]
  },
  {
   "cell_type": "markdown",
   "id": "c8381ea8-2018-403c-932a-38dc8eacc91d",
   "metadata": {},
   "source": [
    "## Write to CSV"
   ]
  },
  {
   "cell_type": "code",
   "execution_count": 16,
   "id": "fba2a241-5a5c-47da-a88e-03f48b3146c0",
   "metadata": {},
   "outputs": [
    {
     "name": "stdout",
     "output_type": "stream",
     "text": [
      "/Users/Jarrod/helloworld/roster_grades.csv\n"
     ]
    }
   ],
   "source": [
    "outFilePath = os.path.join(os.getcwd(), 'roster_grades.csv')\n",
    "print(outFilePath)"
   ]
  },
  {
   "cell_type": "code",
   "execution_count": 22,
   "id": "3b4c8187-4ad5-453f-b8fc-ab5957acedc2",
   "metadata": {},
   "outputs": [
    {
     "name": "stdout",
     "output_type": "stream",
     "text": [
      "['name', 'grade']\n"
     ]
    }
   ],
   "source": [
    "with open(outFilePath, mode='w', newline='') as csvfile:\n",
    "    writer = csv.writer(csvfile)\n",
    "    header = list(roster[0].keys())\n",
    "    print(header)\n",
    "    writer.writerow(header)\n",
    "    for student in roster:\n",
    "        rowToWrite = [student['name'], student['grade']]\n",
    "        writer.writerow(rowToWrite)"
   ]
  },
  {
   "cell_type": "code",
   "execution_count": null,
   "id": "da4e6463-aebc-4949-9f3c-6cc31b1638b5",
   "metadata": {},
   "outputs": [],
   "source": []
  }
 ],
 "metadata": {
  "kernelspec": {
   "display_name": "Python 3",
   "language": "python",
   "name": "python3"
  },
  "language_info": {
   "codemirror_mode": {
    "name": "ipython",
    "version": 3
   },
   "file_extension": ".py",
   "mimetype": "text/x-python",
   "name": "python",
   "nbconvert_exporter": "python",
   "pygments_lexer": "ipython3",
   "version": "3.9.5"
  }
 },
 "nbformat": 4,
 "nbformat_minor": 5
}
